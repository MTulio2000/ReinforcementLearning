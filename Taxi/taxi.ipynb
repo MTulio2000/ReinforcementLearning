{
 "metadata": {
  "language_info": {
   "codemirror_mode": {
    "name": "ipython",
    "version": 3
   },
   "file_extension": ".py",
   "mimetype": "text/x-python",
   "name": "python",
   "nbconvert_exporter": "python",
   "pygments_lexer": "ipython3",
   "version": "3.8.5-final"
  },
  "orig_nbformat": 2,
  "kernelspec": {
   "name": "python38564bitdd50329a5d0b47d698b9095595418ddd",
   "display_name": "Python 3.8.5 64-bit",
   "language": "python"
  }
 },
 "nbformat": 4,
 "nbformat_minor": 2,
 "cells": [
  {
   "cell_type": "code",
   "execution_count": 8,
   "metadata": {},
   "outputs": [
    {
     "output_type": "stream",
     "name": "stdout",
     "text": [
      "+---------+\n|R: | : :\u001b[35mG\u001b[0m|\n| : | : : |\n| : : : : |\n| | : | : |\n|\u001b[34;1mY\u001b[0m| : |B:\u001b[43m \u001b[0m|\n+---------+\n\n"
     ]
    }
   ],
   "source": [
    "import gym\n",
    "env = gym.make(\"Taxi-v3\").env\n",
    "env.render()"
   ]
  },
  {
   "cell_type": "code",
   "execution_count": 9,
   "metadata": {},
   "outputs": [
    {
     "output_type": "stream",
     "name": "stdout",
     "text": [
      "Total de Ações: Discrete(6)\nTotal de estados: Discrete(500)\n"
     ]
    }
   ],
   "source": [
    "print(\"Total de Ações: {}\".format(env.action_space))\n",
    "print(\"Total de estados: {}\".format(env.observation_space))"
   ]
  },
  {
   "cell_type": "code",
   "execution_count": 10,
   "metadata": {},
   "outputs": [],
   "source": [
    "import numpy as np\n",
    "import random\n",
    "from IPython.display import clear_output"
   ]
  },
  {
   "cell_type": "code",
   "execution_count": 11,
   "metadata": {},
   "outputs": [],
   "source": [
    "alpha = 0.1\n",
    "gamma = 0.6\n",
    "epsilon = 0.1\n",
    "q_table = np.zeros([env.observation_space.n,env.action_space.n])"
   ]
  },
  {
   "cell_type": "code",
   "execution_count": 12,
   "metadata": {},
   "outputs": [],
   "source": [
    "def getAction(states,fit):\n",
    "    if fit and random.uniform(0,1)< epsilon:\n",
    "        return env.action_space.sample()\n",
    "    return np.argmax(q_table[states])"
   ]
  },
  {
   "cell_type": "code",
   "execution_count": 13,
   "metadata": {},
   "outputs": [],
   "source": [
    "def start(fit = False):\n",
    "    done = False\n",
    "    state = env.reset()\n",
    "    penalties,epochs = 0,0\n",
    "    while not done:\n",
    "        action = getAction(state,fit)\n",
    "        n_state, reward, done, info = env.step(action)\n",
    "\n",
    "        old_value = q_table[state, action]\n",
    "        n_max = np.max(q_table[n_state])\n",
    "\n",
    "        new_value = (1-alpha) * old_value + alpha * (reward + gamma * n_max)\n",
    "\n",
    "        q_table[state,action] = new_value\n",
    "\n",
    "        if reward == -10:\n",
    "            penalties+=1\n",
    "        state = n_state\n",
    "        epochs += 1\n",
    "        if not fit:\n",
    "            env.render()\n",
    "    if not fit:\n",
    "        print(\"Total de ações executadas: {}\".format(epochs))\n",
    "        print(\"Total de penalizações recebidas: {}\".format(penalties))             \n"
   ]
  },
  {
   "cell_type": "code",
   "execution_count": 14,
   "metadata": {
    "tags": []
   },
   "outputs": [],
   "source": [
    "for i in range(100000):\n",
    "    start(True)"
   ]
  },
  {
   "cell_type": "code",
   "execution_count": 15,
   "metadata": {},
   "outputs": [
    {
     "output_type": "stream",
     "name": "stdout",
     "text": [
      "+---------+\n|R: | : :\u001b[35mG\u001b[0m|\n| : | : : |\n| : : : : |\n| | : | : |\n|\u001b[34;1mY\u001b[0m| : |\u001b[43mB\u001b[0m: |\n+---------+\n  (West)\n+---------+\n|R: | : :\u001b[35mG\u001b[0m|\n| : | : : |\n| : : : : |\n| | : |\u001b[43m \u001b[0m: |\n|\u001b[34;1mY\u001b[0m| : |B: |\n+---------+\n  (North)\n+---------+\n|R: | : :\u001b[35mG\u001b[0m|\n| : | : : |\n| : : :\u001b[43m \u001b[0m: |\n| | : | : |\n|\u001b[34;1mY\u001b[0m| : |B: |\n+---------+\n  (North)\n+---------+\n|R: | : :\u001b[35mG\u001b[0m|\n| : | : : |\n| : :\u001b[43m \u001b[0m: : |\n| | : | : |\n|\u001b[34;1mY\u001b[0m| : |B: |\n+---------+\n  (West)\n+---------+\n|R: | : :\u001b[35mG\u001b[0m|\n| : | : : |\n| :\u001b[43m \u001b[0m: : : |\n| | : | : |\n|\u001b[34;1mY\u001b[0m| : |B: |\n+---------+\n  (West)\n+---------+\n|R: | : :\u001b[35mG\u001b[0m|\n| : | : : |\n|\u001b[43m \u001b[0m: : : : |\n| | : | : |\n|\u001b[34;1mY\u001b[0m| : |B: |\n+---------+\n  (West)\n+---------+\n|R: | : :\u001b[35mG\u001b[0m|\n| : | : : |\n| : : : : |\n|\u001b[43m \u001b[0m| : | : |\n|\u001b[34;1mY\u001b[0m| : |B: |\n+---------+\n  (South)\n+---------+\n|R: | : :\u001b[35mG\u001b[0m|\n| : | : : |\n| : : : : |\n| | : | : |\n|\u001b[34;1m\u001b[43mY\u001b[0m\u001b[0m| : |B: |\n+---------+\n  (South)\n+---------+\n|R: | : :\u001b[35mG\u001b[0m|\n| : | : : |\n| : : : : |\n| | : | : |\n|\u001b[42mY\u001b[0m| : |B: |\n+---------+\n  (Pickup)\n+---------+\n|R: | : :\u001b[35mG\u001b[0m|\n| : | : : |\n| : : : : |\n|\u001b[42m_\u001b[0m| : | : |\n|Y| : |B: |\n+---------+\n  (North)\n+---------+\n|R: | : :\u001b[35mG\u001b[0m|\n| : | : : |\n|\u001b[42m_\u001b[0m: : : : |\n| | : | : |\n|Y| : |B: |\n+---------+\n  (North)\n+---------+\n|R: | : :\u001b[35mG\u001b[0m|\n| : | : : |\n| :\u001b[42m_\u001b[0m: : : |\n| | : | : |\n|Y| : |B: |\n+---------+\n  (East)\n+---------+\n|R: | : :\u001b[35mG\u001b[0m|\n| : | : : |\n| : :\u001b[42m_\u001b[0m: : |\n| | : | : |\n|Y| : |B: |\n+---------+\n  (East)\n+---------+\n|R: | : :\u001b[35mG\u001b[0m|\n| : | : : |\n| : : :\u001b[42m_\u001b[0m: |\n| | : | : |\n|Y| : |B: |\n+---------+\n  (East)\n+---------+\n|R: | : :\u001b[35mG\u001b[0m|\n| : | :\u001b[42m_\u001b[0m: |\n| : : : : |\n| | : | : |\n|Y| : |B: |\n+---------+\n  (North)\n+---------+\n|R: | :\u001b[42m_\u001b[0m:\u001b[35mG\u001b[0m|\n| : | : : |\n| : : : : |\n| | : | : |\n|Y| : |B: |\n+---------+\n  (North)\n+---------+\n|R: | : :\u001b[35m\u001b[42mG\u001b[0m\u001b[0m|\n| : | : : |\n| : : : : |\n| | : | : |\n|Y| : |B: |\n+---------+\n  (East)\n+---------+\n|R: | : :\u001b[35m\u001b[34;1m\u001b[43mG\u001b[0m\u001b[0m\u001b[0m|\n| : | : : |\n| : : : : |\n| | : | : |\n|Y| : |B: |\n+---------+\n  (Dropoff)\nTotal de ações executadas: 18\nTotal de penalizações recebidas: 0\n"
     ]
    }
   ],
   "source": [
    "start()"
   ]
  }
 ]
}